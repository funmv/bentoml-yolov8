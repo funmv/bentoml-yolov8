{
 "cells": [
  {
   "cell_type": "code",
   "execution_count": 1,
   "id": "be6e3f07-fe1d-4f1c-aa7c-c6017dce3ce6",
   "metadata": {},
   "outputs": [],
   "source": [
    "import requests\n",
    "from PIL import Image\n",
    "import io\n",
    "import bentoml\n",
    "from pathlib import Path\n",
    "\n",
    "# Bentoml 서버 URL\n",
    "#url = 'http://localhost:3000/predict'\n",
    "\n",
    "# 이미지 파일 경로\n",
    "#file_path = 'apple.jpg'"
   ]
  },
  {
   "cell_type": "code",
   "execution_count": 6,
   "id": "2ef0204d-5893-4c2e-a793-c3be8f8a7704",
   "metadata": {},
   "outputs": [
    {
     "name": "stdout",
     "output_type": "stream",
     "text": [
      "1234\n"
     ]
    },
    {
     "data": {
      "text/plain": [
       "[[{'name': 'banana',\n",
       "   'class': 46,\n",
       "   'confidence': 0.93527,\n",
       "   'box': {'x1': 1.23627, 'y1': 33.84349, 'x2': 456.29083, 'y2': 359.70154}}],\n",
       " [{'name': 'apple',\n",
       "   'class': 47,\n",
       "   'confidence': 0.96562,\n",
       "   'box': {'x1': 3.46883, 'y1': 56.81543, 'x2': 314.54364, 'y2': 379.43124}}]]"
      ]
     },
     "execution_count": 6,
     "metadata": {},
     "output_type": "execute_result"
    }
   ],
   "source": [
    "# (1) yolov8_bentoml.ipynb파일에서 bentoml model파일 만듬\n",
    "# (2) bentoml build  \n",
    "# (3) bentoml containerize yolo_v8:tmkoy52vgocyxqb4  (docker image는 6.54Gb)\n",
    "# (4) docker run --rm -p 3000:3000 yolo_v8:tmkoy52vgocyxqb4 실행 후 호출 시 아래는 잘 작동\n",
    "with bentoml.SyncHTTPClient(\"http://localhost:3000\") as client:\n",
    "    result = client.predict(\n",
    "        [Path(\"banana.jpg\"), Path(\"apple.jpg\")],  # \n",
    "    )\n",
    "    print('1234')\n",
    "    \n",
    "result"
   ]
  },
  {
   "cell_type": "code",
   "execution_count": null,
   "id": "021851c3-f652-4c10-ae90-19d31242abad",
   "metadata": {},
   "outputs": [],
   "source": [
    "# shell에서 아래 호출해도 잘 작동함\n",
    "curl -X POST http://localhost:3000/predict -H \"accept:application/json\" -H \"Content-Type:multipart/form-data\" -F \"images=@apple.jpg;type=image/jpg\"\n",
    "# 2개 이상 이미지 보낼 때:\n",
    "curl -X POST http://localhost:3000/predict -H \"accept:application/json\" -H \"Content-Type:multipart/form-data\" -F \"images=@apple.jpg;type=image/jpg\" -F \"images=@banana.jpg;type=image/jpg\""
   ]
  },
  {
   "cell_type": "code",
   "execution_count": null,
   "id": "4290d82e-0299-4f89-a8d9-69eeda024efb",
   "metadata": {},
   "outputs": [],
   "source": []
  },
  {
   "cell_type": "code",
   "execution_count": null,
   "id": "36df379d-5c15-46cf-a7c9-e0c1927d3ef7",
   "metadata": {},
   "outputs": [],
   "source": []
  },
  {
   "cell_type": "code",
   "execution_count": null,
   "id": "29ad4148-6006-40ce-9f87-a19b79dad552",
   "metadata": {},
   "outputs": [],
   "source": []
  },
  {
   "cell_type": "code",
   "execution_count": null,
   "id": "7c55f36d-d4aa-4400-ba91-8e2390528c47",
   "metadata": {},
   "outputs": [],
   "source": []
  },
  {
   "cell_type": "code",
   "execution_count": 4,
   "id": "76b5c993-869c-43ad-8782-32c165105ff4",
   "metadata": {},
   "outputs": [
    {
     "data": {
      "text/plain": [
       "<Response [400]>"
      ]
     },
     "execution_count": 4,
     "metadata": {},
     "output_type": "execute_result"
    }
   ],
   "source": [
    "import requests\n",
    "\n",
    "response = requests.post(url, str([Path(\"banana.jpg\")]))\n",
    "response\n"
   ]
  },
  {
   "cell_type": "code",
   "execution_count": 32,
   "id": "3e60ef9e-018b-4140-b191-66b1a43a5249",
   "metadata": {},
   "outputs": [
    {
     "data": {
      "text/plain": [
       "<coroutine object AsyncHTTPClient._call at 0x000001703FE8B3E0>"
      ]
     },
     "execution_count": 32,
     "metadata": {},
     "output_type": "execute_result"
    }
   ],
   "source": [
    "import requests\n",
    "\n",
    "def send_image_to_server(image_path, url):\n",
    "    # 이미지 파일을 읽습니다.\n",
    "    with open(image_path, 'rb') as img_file:\n",
    "        files = {'file': img_file}\n",
    "        # 서버로 POST 요청을 보냅니다.\n",
    "        response = requests.post(url, files=files)\n",
    "    \n",
    "    # 서버 응답을 반환합니다.\n",
    "    return response\n",
    "\n",
    "if __name__ == \"__main__\":\n",
    "    image_path = 'path/to/your/image.jpg'  # 여기에 이미지 경로를 입력하세요\n",
    "    url = 'http://example.com/upload'  # 여기에 서버 URL을 입력하세요\n",
    "    \n",
    "    response = send_image_to_server(image_path, url)\n",
    "    \n",
    "    # 응답 내용을 출력합니다.\n",
    "    if response.status_code == 200:"
   ]
  },
  {
   "cell_type": "code",
   "execution_count": null,
   "id": "31e57bab-147b-4392-89c6-bec0299f6c57",
   "metadata": {},
   "outputs": [],
   "source": [
    "# locustfile.py\n",
    "from locust import task\n",
    "from locust import between\n",
    "from locust import HttpUser\n",
    "\n",
    "with open(\"IMG_1752.jpg\", \"rb\") as f:\n",
    "    test_image_bytes = f.read()\n",
    "\n",
    "\n",
    "class PyTorchPoopLoadTestUser(HttpUser):\n",
    "\n",
    "    wait_time = between(0.01, 2)\n",
    "\n",
    "    @task\n",
    "    def predict_image(self):\n",
    "        # files = {\"upload_files\": (\"1.png\", test_image_bytes, \"image/png\")}\n",
    "        files = {\"upload_files\": (\"IMG_1752.jpg\", test_image_bytes, \"image/jpeg\")}\n",
    "        self.client.post(\"/predict_image\", files=files)\n"
   ]
  },
  {
   "cell_type": "code",
   "execution_count": null,
   "id": "74d1d4d8-6165-431f-a10f-a469068d0c05",
   "metadata": {},
   "outputs": [],
   "source": [
    "curl -X POST http://localhost:3000/predict -H \"accept:application/json\" -H \"Content-Type:multipart/form-data\" -F \"images=@apple.jpg;type=image/jpg\""
   ]
  },
  {
   "cell_type": "code",
   "execution_count": 6,
   "id": "50080438-2b48-4881-a967-a63dba3a15e8",
   "metadata": {},
   "outputs": [
    {
     "ename": "TypeError",
     "evalue": "unhashable type: 'list'",
     "output_type": "error",
     "traceback": [
      "\u001b[1;31m---------------------------------------------------------------------------\u001b[0m",
      "\u001b[1;31mTypeError\u001b[0m                                 Traceback (most recent call last)",
      "Cell \u001b[1;32mIn[6], line 8\u001b[0m\n\u001b[0;32m      2\u001b[0m headers \u001b[38;5;241m=\u001b[39m {\n\u001b[0;32m      3\u001b[0m     \u001b[38;5;124m'\u001b[39m\u001b[38;5;124maccept\u001b[39m\u001b[38;5;124m'\u001b[39m: \u001b[38;5;124m'\u001b[39m\u001b[38;5;124mapplication/json\u001b[39m\u001b[38;5;124m'\u001b[39m,\n\u001b[0;32m      4\u001b[0m     \u001b[38;5;124m'\u001b[39m\u001b[38;5;124mContent-Type\u001b[39m\u001b[38;5;124m'\u001b[39m: \u001b[38;5;124m'\u001b[39m\u001b[38;5;124mmultipart/form-data\u001b[39m\u001b[38;5;124m'\u001b[39m,  \n\u001b[0;32m      5\u001b[0m }\n\u001b[0;32m      7\u001b[0m \u001b[38;5;66;03m# 이미지 파일을 바이너리 모드로 열어 전송\u001b[39;00m\n\u001b[1;32m----> 8\u001b[0m \u001b[38;5;28;01mwith\u001b[39;00m \u001b[38;5;28;43mopen\u001b[39;49m\u001b[43m(\u001b[49m\u001b[43mfile_path\u001b[49m\u001b[43m,\u001b[49m\u001b[43m \u001b[49m\u001b[38;5;124;43m'\u001b[39;49m\u001b[38;5;124;43mrb\u001b[39;49m\u001b[38;5;124;43m'\u001b[39;49m\u001b[43m)\u001b[49m \u001b[38;5;28;01mas\u001b[39;00m f:\n\u001b[0;32m      9\u001b[0m     response \u001b[38;5;241m=\u001b[39m requests\u001b[38;5;241m.\u001b[39mpost(url, headers\u001b[38;5;241m=\u001b[39mheaders, data\u001b[38;5;241m=\u001b[39mf)\n\u001b[0;32m     11\u001b[0m \u001b[38;5;66;03m# 응답 처리\u001b[39;00m\n",
      "File \u001b[1;32mD:\\2023\\venv\\yolov8\\lib\\site-packages\\IPython\\core\\interactiveshell.py:317\u001b[0m, in \u001b[0;36m_modified_open\u001b[1;34m(file, *args, **kwargs)\u001b[0m\n\u001b[0;32m    315\u001b[0m \u001b[38;5;129m@functools\u001b[39m\u001b[38;5;241m.\u001b[39mwraps(io_open)\n\u001b[0;32m    316\u001b[0m \u001b[38;5;28;01mdef\u001b[39;00m \u001b[38;5;21m_modified_open\u001b[39m(file, \u001b[38;5;241m*\u001b[39margs, \u001b[38;5;241m*\u001b[39m\u001b[38;5;241m*\u001b[39mkwargs):\n\u001b[1;32m--> 317\u001b[0m     \u001b[38;5;28;01mif\u001b[39;00m \u001b[43mfile\u001b[49m\u001b[43m \u001b[49m\u001b[38;5;129;43;01min\u001b[39;49;00m\u001b[43m \u001b[49m\u001b[43m{\u001b[49m\u001b[38;5;241;43m0\u001b[39;49m\u001b[43m,\u001b[49m\u001b[43m \u001b[49m\u001b[38;5;241;43m1\u001b[39;49m\u001b[43m,\u001b[49m\u001b[43m \u001b[49m\u001b[38;5;241;43m2\u001b[39;49m\u001b[43m}\u001b[49m:\n\u001b[0;32m    318\u001b[0m         \u001b[38;5;28;01mraise\u001b[39;00m \u001b[38;5;167;01mValueError\u001b[39;00m(\n\u001b[0;32m    319\u001b[0m             \u001b[38;5;124mf\u001b[39m\u001b[38;5;124m\"\u001b[39m\u001b[38;5;124mIPython won\u001b[39m\u001b[38;5;124m'\u001b[39m\u001b[38;5;124mt let you open fd=\u001b[39m\u001b[38;5;132;01m{\u001b[39;00mfile\u001b[38;5;132;01m}\u001b[39;00m\u001b[38;5;124m by default \u001b[39m\u001b[38;5;124m\"\u001b[39m\n\u001b[0;32m    320\u001b[0m             \u001b[38;5;124m\"\u001b[39m\u001b[38;5;124mas it is likely to crash IPython. If you know what you are doing, \u001b[39m\u001b[38;5;124m\"\u001b[39m\n\u001b[0;32m    321\u001b[0m             \u001b[38;5;124m\"\u001b[39m\u001b[38;5;124myou can use builtins\u001b[39m\u001b[38;5;124m'\u001b[39m\u001b[38;5;124m open.\u001b[39m\u001b[38;5;124m\"\u001b[39m\n\u001b[0;32m    322\u001b[0m         )\n\u001b[0;32m    324\u001b[0m     \u001b[38;5;28;01mreturn\u001b[39;00m io_open(file, \u001b[38;5;241m*\u001b[39margs, \u001b[38;5;241m*\u001b[39m\u001b[38;5;241m*\u001b[39mkwargs)\n",
      "\u001b[1;31mTypeError\u001b[0m: unhashable type: 'list'"
     ]
    }
   ],
   "source": [
    "# 헤더 설정\n",
    "headers = {\n",
    "    'accept': 'application/json',\n",
    "    'Content-Type': 'multipart/form-data',  \n",
    "}\n",
    "\n",
    "# 이미지 파일을 바이너리 모드로 열어 전송\n",
    "with open(file_path, 'rb') as f:\n",
    "    response = requests.post(url, headers=headers, data=f)\n",
    "\n",
    "# 응답 처리\n",
    "if response.status_code == 200:\n",
    "    print(\"Response:\", response.json())\n",
    "else:\n",
    "    print(\"Error:\", response.status_code, response.text)"
   ]
  },
  {
   "cell_type": "code",
   "execution_count": null,
   "id": "5a33b962-21b3-4414-9717-4545e52644d9",
   "metadata": {},
   "outputs": [],
   "source": []
  }
 ],
 "metadata": {
  "kernelspec": {
   "display_name": "Python 3 (ipykernel)",
   "language": "python",
   "name": "python3"
  },
  "language_info": {
   "codemirror_mode": {
    "name": "ipython",
    "version": 3
   },
   "file_extension": ".py",
   "mimetype": "text/x-python",
   "name": "python",
   "nbconvert_exporter": "python",
   "pygments_lexer": "ipython3",
   "version": "3.10.4"
  }
 },
 "nbformat": 4,
 "nbformat_minor": 5
}
