{
 "cells": [
  {
   "cell_type": "markdown",
   "id": "eebd6212",
   "metadata": {},
   "source": [
    "## BentoML 연동  "
   ]
  },
  {
   "cell_type": "code",
   "execution_count": 1,
   "id": "b6658e22",
   "metadata": {},
   "outputs": [],
   "source": [
    "import bentoml\n",
    "from ultralytics import YOLO"
   ]
  },
  {
   "cell_type": "code",
   "execution_count": 2,
   "id": "da48be56",
   "metadata": {},
   "outputs": [],
   "source": [
    "model = YOLO(\"yolov8x.pt\").model\n",
    "#model.eval()"
   ]
  },
  {
   "cell_type": "code",
   "execution_count": 3,
   "id": "c5d6d9c3",
   "metadata": {},
   "outputs": [],
   "source": [
    "metadata = {  \n",
    "    'acc': 0.9,\n",
    "    'dataset_version': '20240808',\n",
    "}\n",
    "\n",
    "#signature = {'predict': {'batchable': False}}  # model 코드 내 predict에서 호출\n",
    "signature = {\"__call__\": {\"batchable\": False}}  # model 코드에서 forward로 직접 호출"
   ]
  },
  {
   "cell_type": "code",
   "execution_count": 4,
   "id": "63854732",
   "metadata": {},
   "outputs": [
    {
     "name": "stdout",
     "output_type": "stream",
     "text": [
      "Model(tag=\"yolov8x:cl77uwkvgkkhxqb4\")\n"
     ]
    }
   ],
   "source": [
    "saved_model = bentoml.pytorch.save_model(\n",
    "    'yolov8x',\n",
    "    model,\n",
    "    signatures=signature,\n",
    "    metadata=metadata, \n",
    ")\n",
    "\n",
    "print(saved_model)"
   ]
  },
  {
   "cell_type": "code",
   "execution_count": null,
   "id": "83f010d1-f55a-41ca-b414-0de18177df11",
   "metadata": {},
   "outputs": [],
   "source": []
  },
  {
   "cell_type": "code",
   "execution_count": null,
   "id": "2378cb24-1223-40f7-8645-9dd92de21f96",
   "metadata": {},
   "outputs": [],
   "source": []
  },
  {
   "cell_type": "code",
   "execution_count": null,
   "id": "2eb5b4f9-054b-4cd3-bf43-8e627b9da79e",
   "metadata": {},
   "outputs": [],
   "source": []
  },
  {
   "cell_type": "code",
   "execution_count": null,
   "id": "ff50f739-5a35-438b-9665-0bb00276eef6",
   "metadata": {},
   "outputs": [],
   "source": []
  },
  {
   "cell_type": "code",
   "execution_count": null,
   "id": "cd13344e",
   "metadata": {},
   "outputs": [],
   "source": [
    "model = YOLO(\"yolov8m.pt\").model\n",
    "model.eval()\n",
    "saved_model = bentoml.pytorch.save_model(name='yolov8m_model',\n",
    "                                         model=model,\n",
    "                                         signatures={\"__call__\": {\"batchable\": False}})"
   ]
  },
  {
   "cell_type": "code",
   "execution_count": null,
   "id": "852ac847",
   "metadata": {},
   "outputs": [],
   "source": []
  },
  {
   "cell_type": "code",
   "execution_count": null,
   "id": "1f6697b9",
   "metadata": {},
   "outputs": [],
   "source": []
  },
  {
   "cell_type": "code",
   "execution_count": 3,
   "id": "5c281c26",
   "metadata": {},
   "outputs": [],
   "source": [
    "class PoopResNet(nn.Module):\n",
    "    def __init__(self):\n",
    "        super().__init__()\n",
    "        self.model = models.resnet18(weights='ResNet18_Weights.DEFAULT')\n",
    "\n",
    "        # # Freeze weights\n",
    "        # for param in model_ft.parameters():\n",
    "        #     param.requires_grad = False\n",
    "\n",
    "        self.model.fc = nn.Sequential(\n",
    "            nn.Linear(self.model.fc.in_features, 128),\n",
    "            nn.ReLU(),\n",
    "            nn.Dropout(.3),\n",
    "            nn.Linear(128,3),\n",
    "            nn.LogSoftmax(dim=1)\n",
    "        )\n",
    "        \n",
    "        self.model.load_state_dict(torch.load('poop_resnet18_best0928.pt'))\n",
    "        self.softmax = nn.Softmax(dim=1)\n",
    "        \n",
    "#         self.xforms = transforms.Compose([\n",
    "#                 transforms.Resize(256),\n",
    "#                 transforms.CenterCrop(224),\n",
    "#                 transforms.ToTensor(),\n",
    "#                 transforms.Normalize([0.485, 0.456, 0.406], [0.229, 0.224, 0.225])\n",
    "#             ])\n",
    "        \n",
    "\n",
    "    def forward(self, x):\n",
    "        # x = self.xforms(x)\n",
    "        return self.model(x)\n",
    "\n",
    "    def predict(self, inp):\n",
    "        self.eval()\n",
    "        with torch.no_grad():\n",
    "            output = self(inp)\n",
    "            output = self.softmax(output)\n",
    "            # _, pred = torch.max(output, 1)\n",
    "            return output\n",
    "        \n",
    "        \n",
    "poopup = PoopResNet()"
   ]
  },
  {
   "cell_type": "code",
   "execution_count": 7,
   "id": "e2902c0d",
   "metadata": {},
   "outputs": [],
   "source": [
    "metadata = {  \n",
    "    'acc': 0.928,\n",
    "    'dataset_version': '20230306',\n",
    "}\n",
    "\n",
    "signature = {'predict': {'batchable': True}}  # 호출되는 방법을 정의"
   ]
  },
  {
   "cell_type": "code",
   "execution_count": 8,
   "id": "3776353f",
   "metadata": {},
   "outputs": [
    {
     "name": "stdout",
     "output_type": "stream",
     "text": [
      "Model(tag=\"poopup:j6c5vuv3zskmxqb4\")\n"
     ]
    }
   ],
   "source": [
    "saved_model = bentoml.pytorch.save_model(\n",
    "    'poopup',\n",
    "    poopup,\n",
    "    signatures=signature,\n",
    "    metadata=metadata, \n",
    ")\n",
    "\n",
    "print(saved_model)"
   ]
  },
  {
   "cell_type": "code",
   "execution_count": 9,
   "id": "1013b2a7",
   "metadata": {},
   "outputs": [
    {
     "name": "stdout",
     "output_type": "stream",
     "text": [
      " Tag                           Module           Size       Creation Time       \n",
      " poopup:j6c5vuv3zskmxqb4       bentoml.pytorch  42.97 MiB  2023-03-06 12:09:30 \n",
      " poopup:5btv7hf3zoln5qb4       bentoml.pytorch  42.97 MiB  2023-03-06 12:06:37 \n",
      " iris_clf:t23z5cvwigmppqb4     bentoml.sklearn  5.98 KiB   2023-02-27 10:54:07 \n",
      " poopup:fttpe7fueke3zqb4       bentoml.pytorch  42.98 MiB  2023-02-24 18:03:59 \n",
      " pytorch_mnist:jtn5nvnrygazt���  bentoml.pytorch  1.30 MiB   2023-02-21 17:25:29 \n",
      " poop_resnet18_best0928:x7nf���  bentoml.pytorch  42.97 MiB  2023-02-21 11:37:57 \n"
     ]
    }
   ],
   "source": [
    "!bentoml models list\n",
    "# !bentoml models delete poopup:fttpe7fueke3zqb4"
   ]
  },
  {
   "cell_type": "code",
   "execution_count": 17,
   "id": "4f1d7d31",
   "metadata": {},
   "outputs": [
    {
     "name": "stderr",
     "output_type": "stream",
     "text": [
      "'Runner.init_local' is for debugging and testing only. Make sure to remove it before deploying to production.\n"
     ]
    },
    {
     "name": "stdout",
     "output_type": "stream",
     "text": [
      "poopup:j6c5vuv3zskmxqb4\n",
      "C:\\Users\\user\\bentoml\\models\\poopup\\j6c5vuv3zskmxqb4\n",
      "{}\n",
      "{'acc': 0.928, 'dataset_version': '20230306'}\n",
      "{}\n",
      "Runner(name='poopup', models=[Model(tag=\"poopup:j6c5vuv3zskmxqb4\", path=\"C:\\Users\\user\\bentoml\\models\\poopup\\j6c5vuv3zskmxqb4\")], resource_config=None, runnable_class=<class 'bentoml._internal.frameworks.common.pytorch.partial_class.<locals>.NewClass'>, runner_methods=[RunnerMethod(runner=..., name='predict', config=RunnableMethodConfig(batchable=True, batch_dim=(0, 0), input_spec=None, output_spec=None), max_batch_size=100, max_latency_ms=10000)], scheduling_strategy=<class 'bentoml._internal.runner.strategy.DefaultStrategy'>, runnable_init_params={}, _runner_handle=<bentoml._internal.runner.runner_handle.local.LocalRunnerRef object at 0x000001E6835DBA30>)\n"
     ]
    }
   ],
   "source": [
    "bento_model: bentoml.Model = bentoml.models.get('poopup:latest')\n",
    "# bento_model: bentoml.Model = bentoml.models.get('poopup:fttpe7fueke3zqb4')\n",
    "    \n",
    "print(bento_model.tag)\n",
    "print(bento_model.path)\n",
    "print(bento_model.custom_objects)\n",
    "print(bento_model.info.metadata)\n",
    "print(bento_model.info.labels)\n",
    "\n",
    "my_runner: bentoml.Runner = bento_model.to_runner()\n",
    "my_runner.init_local()\n",
    "print(my_runner)"
   ]
  },
  {
   "cell_type": "code",
   "execution_count": 18,
   "id": "3611974c",
   "metadata": {},
   "outputs": [
    {
     "data": {
      "text/plain": [
       "(1, 3, 224, 224)"
      ]
     },
     "execution_count": 18,
     "metadata": {},
     "output_type": "execute_result"
    }
   ],
   "source": [
    "xforms = transforms.Compose([\n",
    "        transforms.Resize(256),\n",
    "        transforms.CenterCrop(224),\n",
    "        transforms.ToTensor(),\n",
    "        transforms.Normalize([0.485, 0.456, 0.406], [0.229, 0.224, 0.225])\n",
    "    ])\n",
    "\n",
    "img = Image.open('dog.jpg')\n",
    "img = np.expand_dims(xforms(img), 0)\n",
    "\n",
    "img.shape"
   ]
  },
  {
   "cell_type": "code",
   "execution_count": 16,
   "id": "80d00eaf",
   "metadata": {},
   "outputs": [
    {
     "data": {
      "text/plain": [
       "tensor([[-0.9025, -1.2581, -1.1703]])"
      ]
     },
     "execution_count": 16,
     "metadata": {},
     "output_type": "execute_result"
    }
   ],
   "source": [
    "my_runner.run(img)  # without softmax"
   ]
  },
  {
   "cell_type": "code",
   "execution_count": 19,
   "id": "af9d1130",
   "metadata": {},
   "outputs": [
    {
     "data": {
      "text/plain": [
       "tensor([[0.4055, 0.2842, 0.3103]])"
      ]
     },
     "execution_count": 19,
     "metadata": {},
     "output_type": "execute_result"
    }
   ],
   "source": [
    "my_runner.run(img)"
   ]
  },
  {
   "cell_type": "code",
   "execution_count": 20,
   "id": "e03a014e",
   "metadata": {},
   "outputs": [],
   "source": [
    "torch.cuda.empty_cache()"
   ]
  },
  {
   "cell_type": "code",
   "execution_count": null,
   "id": "6b3e6d80",
   "metadata": {},
   "outputs": [],
   "source": []
  },
  {
   "cell_type": "code",
   "execution_count": null,
   "id": "004f81cb",
   "metadata": {},
   "outputs": [],
   "source": []
  },
  {
   "cell_type": "code",
   "execution_count": null,
   "id": "80bc814c",
   "metadata": {},
   "outputs": [],
   "source": []
  },
  {
   "cell_type": "code",
   "execution_count": null,
   "id": "c8b182d2",
   "metadata": {},
   "outputs": [],
   "source": []
  },
  {
   "cell_type": "code",
   "execution_count": null,
   "id": "33c25f65",
   "metadata": {},
   "outputs": [],
   "source": []
  },
  {
   "cell_type": "code",
   "execution_count": null,
   "id": "a2245099",
   "metadata": {},
   "outputs": [],
   "source": []
  }
 ],
 "metadata": {
  "kernelspec": {
   "display_name": "Python 3 (ipykernel)",
   "language": "python",
   "name": "python3"
  },
  "language_info": {
   "codemirror_mode": {
    "name": "ipython",
    "version": 3
   },
   "file_extension": ".py",
   "mimetype": "text/x-python",
   "name": "python",
   "nbconvert_exporter": "python",
   "pygments_lexer": "ipython3",
   "version": "3.10.4"
  }
 },
 "nbformat": 4,
 "nbformat_minor": 5
}
